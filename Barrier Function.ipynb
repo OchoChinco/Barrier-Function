{
 "cells": [
  {
   "cell_type": "code",
   "execution_count": 1,
   "metadata": {},
   "outputs": [],
   "source": [
    "import numpy as np\n",
    "from pandas import DataFrame\n",
    "from sympy import symbols, log, diff, lambdify, exp\n",
    "import matplotlib.pyplot as plt"
   ]
  },
  {
   "cell_type": "code",
   "execution_count": 15,
   "metadata": {},
   "outputs": [],
   "source": [
    "x1, x2 = symbols(\"x1, x2\")\n",
    "listVar = [x1, x2]\n",
    "f = (x1**2+2*x2**2)\n",
    "h1 = (2*x1+3*x2)\n",
    "h2 = (-x2)"
   ]
  },
  {
   "cell_type": "code",
   "execution_count": 16,
   "metadata": {},
   "outputs": [],
   "source": [
    "def gradien(x, t):\n",
    "    # Create symbols needed\n",
    "    # Set the barrier func\n",
    "    # Create list for grad\n",
    "    # Create list for count each point grad\n",
    "    y1, y2 = x\n",
    "    x1, x2, t1 = symbols(\"x1, x2, t1\")\n",
    "    symb = [x1, x2, t1]\n",
    "    barr = f - (1./t1)*log((h1)*(h2))\n",
    "    \n",
    "    grad = []\n",
    "    grad_eval = []\n",
    "    \n",
    "    # Look for grad in 2 variable\n",
    "    for var in range(len(symb) - 1):\n",
    "        grad.append(lambdify(symb, diff(barr, symb[var])))\n",
    "        \n",
    "    # Evaluate the grad \n",
    "    # for each given point\n",
    "    for item in grad:\n",
    "        temp = item(y1, y2, t)\n",
    "        grad_eval.append(temp)\n",
    "    grad_eval = np.array(grad_eval)\n",
    "        \n",
    "    return grad_eval"
   ]
  },
  {
   "cell_type": "code",
   "execution_count": 17,
   "metadata": {},
   "outputs": [],
   "source": [
    "def hessian(x, t):\n",
    "    # Create symbols needed\n",
    "    # Set barrier function\n",
    "    # Create list for grad (temp)\n",
    "    # Create list for hess\n",
    "    # Create list for count each point hess\n",
    "    y1, y2 = x\n",
    "    x1, x2, t1 = symbols(\"x1, x2, t1\")\n",
    "    symb = [x1, x2, t1]\n",
    "    barr = f - (1./t1)*log((h1)*(h2))\n",
    "    \n",
    "    grad_temp = []\n",
    "    hess = []\n",
    "    \n",
    "    # Iterate each index symbols\n",
    "    # Find grad for count hess\n",
    "    for idx in range(len(symb) - 1):\n",
    "        grad_temp.append(diff(barr, symb[idx]))\n",
    "    \n",
    "    # Iterate each item in grad\n",
    "    # Create temp_list to create nd-arr\n",
    "    # Iterate each symb\n",
    "    # Find hess\n",
    "    # Calculate \n",
    "    for item in grad_temp:\n",
    "        temp_hess = []\n",
    "        for idx2 in range(len(symb) - 1):\n",
    "            temp_hess.append(lambdify(symb, \n",
    "                                      diff(item, symb[idx2]))(y1, y2, t))\n",
    "        hess.append(temp_hess)\n",
    "    hess = np.array(hess)\n",
    "    \n",
    "    return hess"
   ]
  },
  {
   "cell_type": "code",
   "execution_count": 18,
   "metadata": {},
   "outputs": [],
   "source": [
    "def Barrier_Method(x_init, m, t, mu=0.01, tol_barr=1e-5, tol_newton=1e-5, max_iter=1000):\n",
    "    # Change obj_func to func\n",
    "    # Store x_init\n",
    "    # List for point iter\n",
    "    # List for val iter\n",
    "    # List for duality_gap\n",
    "    # Iterator for barr\n",
    "    # Print first init condition\n",
    "    fObj = lambdify(listVar, f)\n",
    "    xp = x_init\n",
    "    xk = [xp]\n",
    "    fxk = [fObj(xp[0], xp[1])]\n",
    "    duality_gap = [m / t]\n",
    "    k = 0\n",
    "    print(f\"Initial Condition: x={xp}, f(x)={fxk[k]:.4f}\\n\")\n",
    "    \n",
    "    # We start the barr_method\n",
    "    # Loop until the condition met\n",
    "    # Which is duality_gap (m / t) < tol_barr\n",
    "    while m / t > tol_barr:\n",
    "        # Start newton method\n",
    "        i = 0\n",
    "        d = np.array([[1], [1]])\n",
    "        \n",
    "        # Loop until the condition met\n",
    "        # Which is norm(d) < tol_newton\n",
    "        # And i > max_iter\n",
    "        while np.linalg.norm(d) > tol_newton and i < max_iter:\n",
    "            # Call grad and hess\n",
    "            # Update d as -dot between hess.inv and grad\n",
    "            # Update xp as xp+d\n",
    "            # Store to xk\n",
    "            # Update i\n",
    "            gradX = gradien(xp, t)\n",
    "            hessX = hessian(xp, t)\n",
    "            d = np.dot(np.linalg.inv(hessX), gradX)\n",
    "            xp = xp - d\n",
    "            xk.append(xp)\n",
    "            i = i + 1\n",
    "            \n",
    "        # Update params t\n",
    "        # Update duality gap\n",
    "        # Update fxk\n",
    "        # Update k\n",
    "        t = (1 + 1/(13 * np.sqrt(mu))) * t\n",
    "        duality_gap.append(m / t)\n",
    "        fxk.append(fObj(xp[0], xp[1]))\n",
    "        k = k + 1\n",
    "        \n",
    "        # Print result for each iter of Barr_method\n",
    "        print(f\"Iteration: {k}; x = {xp}, f(x) = {fxk[k]:.4f}, gap = {duality_gap[k]:.4f}\")\n",
    "        \n",
    "    xk = np.array(xk)\n",
    "    \n",
    "    return xk, fxk, duality_gap"
   ]
  },
  {
   "cell_type": "code",
   "execution_count": 19,
   "metadata": {},
   "outputs": [],
   "source": [
    "def obj(x):\n",
    "    return (x[0]**2 + 2*x[1]**2)"
   ]
  },
  {
   "cell_type": "code",
   "execution_count": 58,
   "metadata": {},
   "outputs": [],
   "source": [
    "def feasibleSet(x, y):\n",
    "    # define constraint\n",
    "    c1 = lambda a, b : 2*a + 3*b\n",
    "    c2 = lambda a, b : -a\n",
    "#     c1 = lambda a, b : a**2 - 4\n",
    "#     c2 = lambda a, b : np.exp(-a) - b\n",
    "#     c3 = lambda a, b : a + 2*b - 4\n",
    "#     c4 = lambda a, b : -a\n",
    "#     c5 = lambda a, b : -b\n",
    "    # Draw\n",
    "#     & \n",
    "#          (c2(x,y)<=0) & \n",
    "#          (c3(x,y)<=0) & \n",
    "#          (c4(x,y)<=0) & \n",
    "#          (c5(x,y)<=0)\n",
    "    plt.imshow(\n",
    "        ((c1(x,y)<=0),\n",
    "          (c2(x,y)<=0)).astype(int),\n",
    "        extent = (x.min(), x.max(), y.min(), y.max()),\n",
    "        origin = \"lower\",\n",
    "        cmap = \"GnBu\"\n",
    "    )"
   ]
  },
  {
   "cell_type": "code",
   "execution_count": 59,
   "metadata": {},
   "outputs": [],
   "source": [
    "def learning_curve(fx, duality_gap):\n",
    "    # Create figure\n",
    "    # for obj func\n",
    "    fig, (ax1, ax2) = plt.subplots(1, 2, figsize=(10, 5))\n",
    "    ax1.plot(fs, c=\"r\")\n",
    "    ax1.scatter(len(fs) - 1, fs[-1], c=\"yellow\")\n",
    "    ax1.set(\n",
    "        title = \"Obj for each iter\",\n",
    "        xlabel = \"Num of iter\",\n",
    "        ylabel = \"Obj func\",\n",
    "        xlim = 0\n",
    "    )\n",
    "    \n",
    "    # for duality_gap\n",
    "    ax2.plot(duality_gap, c = \"r\")\n",
    "    ax2.scatter(len(duality_gap) - 1, duality_gap[-1], c='yellow')\n",
    "    ax2.set(\n",
    "        title = \"Duality gap for each iter\",\n",
    "        xlabel = \"Num of iter\",\n",
    "        ylabel = \"Duality gap\",\n",
    "        xlim = 0\n",
    "    )\n",
    "    plt.show()"
   ]
  },
  {
   "cell_type": "code",
   "execution_count": 60,
   "metadata": {},
   "outputs": [],
   "source": [
    "def contour(x_min, x_max, y_min, y_max):\n",
    "    # Data and step for each data\n",
    "    delta = 0.025\n",
    "    x = np.arange(x_min, x_max, delta)\n",
    "    y = np.arange(y_min, y_max, delta)\n",
    "    x, y = np.meshgrid(x, y)\n",
    "    z = np.zeros(x.shape)\n",
    "    \n",
    "    # Start plot\n",
    "    for i in range(x.shape[0]):\n",
    "        for j in range(x.shape[1]):\n",
    "            xCord = x[i][j]\n",
    "            yCord = y[i][j]\n",
    "            z[i][j] = obj(np.array([[xCord], [yCord]]))\n",
    "    CS = plt.contour(x, y, z)\n",
    "    \n",
    "    # Labeling\n",
    "    plt.clabel(CS, fmt='%1.2f')\n",
    "    plt.xlabel('x1')\n",
    "    plt.ylabel('x2')\n",
    "    plt.title(\"Contour obj func w feasible set and iter path\")\n",
    "    plt.show()"
   ]
  },
  {
   "cell_type": "code",
   "execution_count": 61,
   "metadata": {},
   "outputs": [],
   "source": [
    "def plotAll(xs, fs, duality_gap):\n",
    "    # Create figure\n",
    "    plt.figure(figsize=(8, 6))\n",
    "    plt.plot(xs[:,0], xs[:,1], 'r')\n",
    "    plt.scatter(xs[-1][0], xs[-1][1], color='red')\n",
    "    \n",
    "    x_min, x_max = plt.gca().get_xlim()\n",
    "    y_min, y_max = plt.gca().get_ylim()\n",
    "    d = np.linspace(min(x_min, y_min, -0.25),\n",
    "                    max(x_max, y_max, 2.25),\n",
    "                    2000)\n",
    "    x, y = np.meshgrid(d, d)\n",
    "    \n",
    "    feasibleSet(x, y)\n",
    "    contour(x.min(), x.max(), y.min(), y.max())\n",
    "    learning_curve(fs, duality_gap)"
   ]
  },
  {
   "cell_type": "code",
   "execution_count": 62,
   "metadata": {},
   "outputs": [
    {
     "name": "stdout",
     "output_type": "stream",
     "text": [
      "Initial Condition: x=[-2.   1.5], f(x)=8.5000\n",
      "\n",
      "Iteration: 1; x = [1.16703283 2.07822453], f(x) = 10.0000, gap = 28.2609\n",
      "Iteration: 2; x = [0.87738626 1.56242876], f(x) = 5.6522, gap = 15.9735\n",
      "Iteration: 3; x = [0.65962725 1.17464865], f(x) = 3.1947, gap = 9.0285\n",
      "Iteration: 4; x = [0.49591398 0.88311191], f(x) = 1.8057, gap = 5.1031\n",
      "Iteration: 5; x = [0.37283279 0.66393184], f(x) = 1.0206, gap = 2.8843\n",
      "Iteration: 6; x = [0.2802992  0.49915021], f(x) = 0.5769, gap = 1.6303\n",
      "Iteration: 7; x = [0.21073158 0.37526582], f(x) = 0.3261, gap = 0.9215\n",
      "Iteration: 8; x = [0.15842998 0.28212838], f(x) = 0.1843, gap = 0.5208\n",
      "Iteration: 9; x = [0.11910915 0.21210677], f(x) = 0.1042, gap = 0.2944\n",
      "Iteration: 10; x = [0.08954738 0.15946387], f(x) = 0.0589, gap = 0.1664\n",
      "Iteration: 11; x = [0.06732257 0.11988644], f(x) = 0.0333, gap = 0.0940\n",
      "Iteration: 12; x = [0.05061374 0.09013175], f(x) = 0.0188, gap = 0.0532\n",
      "Iteration: 13; x = [0.03805188 0.0677619 ], f(x) = 0.0106, gap = 0.0300\n",
      "Iteration: 14; x = [0.02860776 0.05094403], f(x) = 0.0060, gap = 0.0170\n",
      "Iteration: 15; x = [0.02150759 0.0383002 ], f(x) = 0.0034, gap = 0.0096\n",
      "Iteration: 16; x = [0.01616961 0.02879445], f(x) = 0.0019, gap = 0.0054\n",
      "Iteration: 17; x = [0.01215646 0.02164794], f(x) = 0.0011, gap = 0.0031\n",
      "Iteration: 18; x = [0.00913934 0.01627513], f(x) = 0.0006, gap = 0.0017\n",
      "Iteration: 19; x = [0.00687104 0.01223579], f(x) = 0.0003, gap = 0.0010\n",
      "Iteration: 20; x = [0.00516571 0.00919898], f(x) = 0.0002, gap = 0.0006\n",
      "Iteration: 21; x = [0.00388363 0.00691588], f(x) = 0.0001, gap = 0.0003\n",
      "Iteration: 22; x = [0.00291975 0.00519942], f(x) = 0.0001, gap = 0.0002\n",
      "Iteration: 23; x = [0.0021951  0.00390898], f(x) = 0.0000, gap = 0.0001\n",
      "Iteration: 24; x = [0.00165029 0.0029388 ], f(x) = 0.0000, gap = 0.0001\n",
      "Iteration: 25; x = [0.00124071 0.00220942], f(x) = 0.0000, gap = 0.0000\n",
      "Iteration: 26; x = [0.00093277 0.00166106], f(x) = 0.0000, gap = 0.0000\n",
      "Iteration: 27; x = [0.00070127 0.0012488 ], f(x) = 0.0000, gap = 0.0000\n",
      "Iteration: 28; x = [0.00052722 0.00093886], f(x) = 0.0000, gap = 0.0000\n"
     ]
    }
   ],
   "source": [
    "init = np.array([-2., 1.5])\n",
    "xs, fs, duality_gap = Barrier_Method(init, 5, 0.1)"
   ]
  },
  {
   "cell_type": "code",
   "execution_count": 63,
   "metadata": {},
   "outputs": [
    {
     "ename": "AttributeError",
     "evalue": "'tuple' object has no attribute 'astype'",
     "output_type": "error",
     "traceback": [
      "\u001b[1;31m---------------------------------------------------------------------------\u001b[0m",
      "\u001b[1;31mAttributeError\u001b[0m                            Traceback (most recent call last)",
      "\u001b[1;32m<ipython-input-63-cbf241928e96>\u001b[0m in \u001b[0;36m<module>\u001b[1;34m\u001b[0m\n\u001b[1;32m----> 1\u001b[1;33m \u001b[0mplotAll\u001b[0m\u001b[1;33m(\u001b[0m\u001b[0mxs\u001b[0m\u001b[1;33m,\u001b[0m \u001b[0mfs\u001b[0m\u001b[1;33m,\u001b[0m \u001b[0mduality_gap\u001b[0m\u001b[1;33m)\u001b[0m\u001b[1;33m\u001b[0m\u001b[1;33m\u001b[0m\u001b[0m\n\u001b[0m",
      "\u001b[1;32m<ipython-input-61-8b53e996508e>\u001b[0m in \u001b[0;36mplotAll\u001b[1;34m(xs, fs, duality_gap)\u001b[0m\n\u001b[0;32m     12\u001b[0m     \u001b[0mx\u001b[0m\u001b[1;33m,\u001b[0m \u001b[0my\u001b[0m \u001b[1;33m=\u001b[0m \u001b[0mnp\u001b[0m\u001b[1;33m.\u001b[0m\u001b[0mmeshgrid\u001b[0m\u001b[1;33m(\u001b[0m\u001b[0md\u001b[0m\u001b[1;33m,\u001b[0m \u001b[0md\u001b[0m\u001b[1;33m)\u001b[0m\u001b[1;33m\u001b[0m\u001b[1;33m\u001b[0m\u001b[0m\n\u001b[0;32m     13\u001b[0m \u001b[1;33m\u001b[0m\u001b[0m\n\u001b[1;32m---> 14\u001b[1;33m     \u001b[0mfeasibleSet\u001b[0m\u001b[1;33m(\u001b[0m\u001b[0mx\u001b[0m\u001b[1;33m,\u001b[0m \u001b[0my\u001b[0m\u001b[1;33m)\u001b[0m\u001b[1;33m\u001b[0m\u001b[1;33m\u001b[0m\u001b[0m\n\u001b[0m\u001b[0;32m     15\u001b[0m     \u001b[0mcontour\u001b[0m\u001b[1;33m(\u001b[0m\u001b[0mx\u001b[0m\u001b[1;33m.\u001b[0m\u001b[0mmin\u001b[0m\u001b[1;33m(\u001b[0m\u001b[1;33m)\u001b[0m\u001b[1;33m,\u001b[0m \u001b[0mx\u001b[0m\u001b[1;33m.\u001b[0m\u001b[0mmax\u001b[0m\u001b[1;33m(\u001b[0m\u001b[1;33m)\u001b[0m\u001b[1;33m,\u001b[0m \u001b[0my\u001b[0m\u001b[1;33m.\u001b[0m\u001b[0mmin\u001b[0m\u001b[1;33m(\u001b[0m\u001b[1;33m)\u001b[0m\u001b[1;33m,\u001b[0m \u001b[0my\u001b[0m\u001b[1;33m.\u001b[0m\u001b[0mmax\u001b[0m\u001b[1;33m(\u001b[0m\u001b[1;33m)\u001b[0m\u001b[1;33m)\u001b[0m\u001b[1;33m\u001b[0m\u001b[1;33m\u001b[0m\u001b[0m\n\u001b[0;32m     16\u001b[0m     \u001b[0mlearning_curve\u001b[0m\u001b[1;33m(\u001b[0m\u001b[0mfs\u001b[0m\u001b[1;33m,\u001b[0m \u001b[0mduality_gap\u001b[0m\u001b[1;33m)\u001b[0m\u001b[1;33m\u001b[0m\u001b[1;33m\u001b[0m\u001b[0m\n",
      "\u001b[1;32m<ipython-input-58-0d06029f79f0>\u001b[0m in \u001b[0;36mfeasibleSet\u001b[1;34m(x, y)\u001b[0m\n\u001b[0;32m     15\u001b[0m \u001b[1;31m#          (c5(x,y)<=0)\u001b[0m\u001b[1;33m\u001b[0m\u001b[1;33m\u001b[0m\u001b[1;33m\u001b[0m\u001b[0m\n\u001b[0;32m     16\u001b[0m     plt.imshow(\n\u001b[1;32m---> 17\u001b[1;33m         ((c1(x,y)<=0),\n\u001b[0m\u001b[0;32m     18\u001b[0m           (c2(x,y)<=0)).astype(int),\n\u001b[0;32m     19\u001b[0m         \u001b[0mextent\u001b[0m \u001b[1;33m=\u001b[0m \u001b[1;33m(\u001b[0m\u001b[0mx\u001b[0m\u001b[1;33m.\u001b[0m\u001b[0mmin\u001b[0m\u001b[1;33m(\u001b[0m\u001b[1;33m)\u001b[0m\u001b[1;33m,\u001b[0m \u001b[0mx\u001b[0m\u001b[1;33m.\u001b[0m\u001b[0mmax\u001b[0m\u001b[1;33m(\u001b[0m\u001b[1;33m)\u001b[0m\u001b[1;33m,\u001b[0m \u001b[0my\u001b[0m\u001b[1;33m.\u001b[0m\u001b[0mmin\u001b[0m\u001b[1;33m(\u001b[0m\u001b[1;33m)\u001b[0m\u001b[1;33m,\u001b[0m \u001b[0my\u001b[0m\u001b[1;33m.\u001b[0m\u001b[0mmax\u001b[0m\u001b[1;33m(\u001b[0m\u001b[1;33m)\u001b[0m\u001b[1;33m)\u001b[0m\u001b[1;33m,\u001b[0m\u001b[1;33m\u001b[0m\u001b[1;33m\u001b[0m\u001b[0m\n",
      "\u001b[1;31mAttributeError\u001b[0m: 'tuple' object has no attribute 'astype'"
     ]
    },
    {
     "data": {
      "image/png": "[encoded data removed]",
      "text/plain": [
       "<Figure size 576x432 with 1 Axes>"
      ]
     },
     "metadata": {
      "needs_background": "light"
     },
     "output_type": "display_data"
    }
   ],
   "source": [
    "plotAll(xs, fs, duality_gap)"
   ]
  },
  {
   "cell_type": "code",
   "execution_count": null,
   "metadata": {},
   "outputs": [],
   "source": []
  }
 ],
 "metadata": {
  "kernelspec": {
   "display_name": "Python 3",
   "language": "python",
   "name": "python3"
  },
  "language_info": {
   "codemirror_mode": {
    "name": "ipython",
    "version": 3
   },
   "file_extension": ".py",
   "mimetype": "text/x-python",
   "name": "python",
   "nbconvert_exporter": "python",
   "pygments_lexer": "ipython3",
   "version": "3.8.5"
  }
 },
 "nbformat": 4,
 "nbformat_minor": 4
}
